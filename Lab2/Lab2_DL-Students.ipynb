{
 "cells": [
  {
   "cell_type": "markdown",
   "metadata": {},
   "source": [
    "<h1 style=\"text-align:center\">Deep Learning   </h1>\n",
    "<h1 style=\"text-align:center\"> Lab Session 2 - 1.5 Hours </h1>\n",
    "<h1 style=\"text-align:center\"> Convolutional Neural Network (CNN) for Handwritten Digits Recognition</h1>"
   ]
  },
  {
   "cell_type": "markdown",
   "metadata": {},
   "source": [
    "<b> Group name:</b> Sara Giammusso, Samuel Pierre\n",
    " \n",
    " \n",
    "The aim of this session is to practice with Convolutional Neural Networks. Each group should fill and run appropriate notebook cells. \n",
    "\n",
    "\n",
    "Generate your final report (export as HTML) and upload it on the submission website http://bigfoot-m1.eurecom.fr/teachingsub/login (using your deeplearnXX/password). Do not forget to run all your cells before generating your final report and do not forget to include the names of all participants in the group. The lab session should be completed and submitted by May 30th 2018 (23:59:59 CET)."
   ]
  },
  {
   "cell_type": "markdown",
   "metadata": {},
   "source": [
    "# Introduction"
   ]
  },
  {
   "cell_type": "markdown",
   "metadata": {},
   "source": [
    "In the previous Lab Session, you built a Multilayer Perceptron for recognizing hand-written digits from the MNIST data-set. The best achieved accuracy on testing data was about 97%. Can you do better than these results using a deep CNN ?\n",
    "In this Lab Session, you will build, train and optimize in TensorFlow one of the early Convolutional Neural Networks,  **LeNet-5**, to go to more than 99% of accuracy. \n",
    "\n",
    "\n",
    "\n",
    "\n"
   ]
  },
  {
   "cell_type": "markdown",
   "metadata": {},
   "source": [
    "# Load MNIST Data in TensorFlow\n",
    "Run the cell below to load the MNIST data that comes with TensorFlow. You will use this data in **Section 1** and **Section 2**."
   ]
  },
  {
   "cell_type": "code",
   "execution_count": 1,
   "metadata": {},
   "outputs": [
    {
     "name": "stderr",
     "output_type": "stream",
     "text": [
      "/usr/local/lib/python3.5/dist-packages/h5py/__init__.py:36: FutureWarning: Conversion of the second argument of issubdtype from `float` to `np.floating` is deprecated. In future, it will be treated as `np.float64 == np.dtype(float).type`.\n",
      "  from ._conv import register_converters as _register_converters\n"
     ]
    },
    {
     "name": "stdout",
     "output_type": "stream",
     "text": [
      "Extracting MNIST_data/train-images-idx3-ubyte.gz\n",
      "Extracting MNIST_data/train-labels-idx1-ubyte.gz\n",
      "Extracting MNIST_data/t10k-images-idx3-ubyte.gz\n",
      "Extracting MNIST_data/t10k-labels-idx1-ubyte.gz\n",
      "Image Shape: (784,)\n",
      "Training Set:   55000 samples\n",
      "Validation Set: 5000 samples\n",
      "Test Set:       10000 samples\n"
     ]
    }
   ],
   "source": [
    "import tensorflow as tf\n",
    "import numpy as np\n",
    "from tensorflow.examples.tutorials.mnist import input_data\n",
    "mnist = input_data.read_data_sets(\"MNIST_data/\", one_hot=True)\n",
    "X_train, y_train           = mnist.train.images, mnist.train.labels\n",
    "X_validation, y_validation = mnist.validation.images, mnist.validation.labels\n",
    "X_test, y_test             = mnist.test.images, mnist.test.labels\n",
    "print(\"Image Shape: {}\".format(X_train[0].shape))\n",
    "print(\"Training Set:   {} samples\".format(len(X_train)))\n",
    "print(\"Validation Set: {} samples\".format(len(X_validation)))\n",
    "print(\"Test Set:       {} samples\".format(len(X_test)))\n",
    "\n",
    "epsilon = 1e-10 # this is a parameter you will use later"
   ]
  },
  {
   "cell_type": "markdown",
   "metadata": {},
   "source": [
    "# Section 1 : My First Model in TensorFlow"
   ]
  },
  {
   "cell_type": "markdown",
   "metadata": {
    "collapsed": true
   },
   "source": [
    "Before starting with CNN, let's train and test in TensorFlow the example\n",
    "**y=softmax(Wx+b)** seen in the first lab. \n",
    "\n",
    "This model reaches an accuracy of about 92 %.\n",
    "You will also learn how to launch the TensorBoard https://www.tensorflow.org/get_started/summaries_and_tensorboard to visualize the computation graph, statistics and learning curves. "
   ]
  },
  {
   "cell_type": "markdown",
   "metadata": {},
   "source": [
    "<b> Part 1 </b> : Read carefully the code in the cell below. Run it to perform training. "
   ]
  },
  {
   "cell_type": "code",
   "execution_count": 2,
   "metadata": {},
   "outputs": [
    {
     "name": "stdout",
     "output_type": "stream",
     "text": [
      "Epoch:  01   =====> Loss= 1.288405521\n",
      "Epoch:  02   =====> Loss= 0.732672014\n",
      "Epoch:  03   =====> Loss= 0.599999217\n",
      "Epoch:  04   =====> Loss= 0.536443152\n",
      "Epoch:  05   =====> Loss= 0.497891496\n",
      "Epoch:  06   =====> Loss= 0.470993731\n",
      "Epoch:  07   =====> Loss= 0.451451283\n",
      "Epoch:  08   =====> Loss= 0.435696947\n",
      "Epoch:  09   =====> Loss= 0.423559110\n",
      "Epoch:  10   =====> Loss= 0.413112891\n",
      "Epoch:  11   =====> Loss= 0.404330307\n",
      "Epoch:  12   =====> Loss= 0.396559129\n",
      "Epoch:  13   =====> Loss= 0.390292115\n",
      "Epoch:  14   =====> Loss= 0.384316326\n",
      "Epoch:  15   =====> Loss= 0.379412651\n",
      "Epoch:  16   =====> Loss= 0.374492146\n",
      "Epoch:  17   =====> Loss= 0.370495363\n",
      "Epoch:  18   =====> Loss= 0.366586237\n",
      "Epoch:  19   =====> Loss= 0.362921391\n",
      "Epoch:  20   =====> Loss= 0.359556422\n",
      "Epoch:  21   =====> Loss= 0.356397682\n",
      "Epoch:  22   =====> Loss= 0.353948969\n",
      "Epoch:  23   =====> Loss= 0.351112976\n",
      "Epoch:  24   =====> Loss= 0.348895340\n",
      "Epoch:  25   =====> Loss= 0.346488030\n",
      "Epoch:  26   =====> Loss= 0.344267702\n",
      "Epoch:  27   =====> Loss= 0.342380516\n",
      "Epoch:  28   =====> Loss= 0.340364422\n",
      "Epoch:  29   =====> Loss= 0.338577228\n",
      "Epoch:  30   =====> Loss= 0.336782237\n",
      "Epoch:  31   =====> Loss= 0.335077385\n",
      "Epoch:  32   =====> Loss= 0.333556177\n",
      "Epoch:  33   =====> Loss= 0.332079890\n",
      "Epoch:  34   =====> Loss= 0.330352665\n",
      "Epoch:  35   =====> Loss= 0.329137221\n",
      "Epoch:  36   =====> Loss= 0.327604791\n",
      "Epoch:  37   =====> Loss= 0.326748171\n",
      "Epoch:  38   =====> Loss= 0.325143094\n",
      "Epoch:  39   =====> Loss= 0.324233317\n",
      "Epoch:  40   =====> Loss= 0.323138582\n",
      "Optimization Finished!\n",
      "Accuracy: 0.916\n"
     ]
    }
   ],
   "source": [
    "#STEP 1\n",
    "\n",
    "# Parameters\n",
    "learning_rate = 0.01\n",
    "training_epochs = 40\n",
    "batch_size = 128\n",
    "display_step = 1\n",
    "logs_path = 'log_files/'  # useful for tensorboard\n",
    "\n",
    "# tf Graph Input:  mnist data image of shape 28*28=784\n",
    "x = tf.placeholder(tf.float32, [None, 784], name='InputData')\n",
    "# 0-9 digits recognition,  10 classes\n",
    "y = tf.placeholder(tf.float32, [None, 10], name='LabelData')\n",
    "\n",
    "# Set model weights\n",
    "W = tf.Variable(tf.zeros([784, 10]), name='Weights')\n",
    "b = tf.Variable(tf.zeros([10]), name='Bias')\n",
    "\n",
    "# Construct model and encapsulating all ops into scopes, making Tensorboard's Graph visualization more convenient\n",
    "with tf.name_scope('Model'):\n",
    "    # Model\n",
    "    pred = tf.nn.softmax(tf.matmul(x, W) + b) # Softmax\n",
    "with tf.name_scope('Loss'):\n",
    "    # Minimize error using cross entropy\n",
    "    # We use tf.clip_by_value to avoid having too low numbers in the log function\n",
    "    cost = tf.reduce_mean(-tf.reduce_sum(y*tf.log(tf.clip_by_value(pred, epsilon, 1.0)), reduction_indices=1))\n",
    "with tf.name_scope('SGD'):\n",
    "    # Gradient Descent\n",
    "    optimizer = tf.train.GradientDescentOptimizer(learning_rate).minimize(cost)\n",
    "with tf.name_scope('Accuracy'):\n",
    "    # Accuracy\n",
    "    acc = tf.equal(tf.argmax(pred, 1), tf.argmax(y, 1))\n",
    "    acc = tf.reduce_mean(tf.cast(acc, tf.float32))\n",
    "\n",
    "# Initializing the variables\n",
    "init = tf.global_variables_initializer()\n",
    "# Create a summary to monitor cost tensor\n",
    "tf.summary.scalar(\"Loss\", cost)\n",
    "# Create a summary to monitor accuracy tensor\n",
    "tf.summary.scalar(\"Accuracy\", acc)\n",
    "# Merge all summaries into a single op\n",
    "merged_summary_op = tf.summary.merge_all()\n",
    "\n",
    "#STEP 2 \n",
    "\n",
    "# Launch the graph for training\n",
    "with tf.Session() as sess:\n",
    "    sess.run(init)\n",
    "    # op to write logs to Tensorboard\n",
    "    summary_writer = tf.summary.FileWriter(logs_path, graph=tf.get_default_graph())\n",
    "    # Training cycle\n",
    "    for epoch in range(training_epochs):\n",
    "        avg_cost = 0.\n",
    "        total_batch = int(mnist.train.num_examples/batch_size)\n",
    "        # Loop over all batches\n",
    "        for i in range(total_batch):\n",
    "            batch_xs, batch_ys = mnist.train.next_batch(batch_size, shuffle=(i==0))\n",
    "            # Run optimization op (backprop), cost op (to get loss value)\n",
    "            # and summary nodes\n",
    "            _, c, summary = sess.run([optimizer, cost, merged_summary_op],\n",
    "                                     feed_dict={x: batch_xs, y: batch_ys})\n",
    "            # Write logs at every iteration\n",
    "            summary_writer.add_summary(summary, epoch * total_batch + i)\n",
    "            # Compute average loss\n",
    "            avg_cost += c / total_batch\n",
    "        # Display logs per epoch step\n",
    "        if (epoch+1) % display_step == 0:\n",
    "            print(\"Epoch: \", '%02d' % (epoch+1), \"  =====> Loss=\", \"{:.9f}\".format(avg_cost))\n",
    "\n",
    "    print(\"Optimization Finished!\")\n",
    "    summary_writer.flush()\n",
    "\n",
    "    # Test model\n",
    "    # Calculate accuracy\n",
    "    print(\"Accuracy:\", acc.eval({x: mnist.test.images, y: mnist.test.labels}))"
   ]
  },
  {
   "cell_type": "markdown",
   "metadata": {},
   "source": [
    "<b> Part 2  </b>: Using Tensorboard, we can  now visualize the created graph, giving you an overview of your architecture and how all of the major components  are connected. You can also see and analyse the learning curves. \n",
    "\n",
    "To launch tensorBoard: \n",
    "- Open a Terminal and run the command line **\"tensorboard --logdir=lab_2/log_files/\"**\n",
    "- Click on \"Tensorboard web interface\" in Zoe  \n",
    "\n",
    "\n",
    "Enjoy It !! \n"
   ]
  },
  {
   "cell_type": "markdown",
   "metadata": {},
   "source": [
    "# Section 2 : The 99% MNIST Challenge !"
   ]
  },
  {
   "cell_type": "markdown",
   "metadata": {},
   "source": [
    "<b> Part 1 </b> : LeNet5 implementation"
   ]
  },
  {
   "cell_type": "markdown",
   "metadata": {},
   "source": [
    "You are now more familar with **TensorFlow** and **TensorBoard**. In this section, you are to build, train and test the baseline [LeNet-5](http://yann.lecun.com/exdb/lenet/)  model for the MNIST digits recognition problem.  \n",
    "\n",
    "Then, you will make some optimizations to get more than 99% of accuracy.\n",
    "\n",
    "For more informations, have a look at this list of results: http://rodrigob.github.io/are_we_there_yet/build/classification_datasets_results.html"
   ]
  },
  {
   "cell_type": "markdown",
   "metadata": {},
   "source": [
    "\n",
    "<img src=\"lenet.png\",width=\"800\" height=\"600\" align=\"center\">\n",
    "<center><span>Figure 1: Lenet-5 </span></center>\n",
    "\n",
    "\n",
    "\n",
    "\n",
    "\n",
    "The LeNet architecture takes a 28x28xC image as input, where C is the number of color channels. Since MNIST images are grayscale, C is 1 in this case.\n",
    "\n",
    "--------------------------\n",
    "**Layer 1 - Convolution (5x5):** The output shape should be 28x28x6. **Activation:** ReLU. **MaxPooling:** The output shape should be 14x14x6.\n",
    "\n",
    "**Layer 2 - Convolution (5x5):** The output shape should be 10x10x16. **Activation:** ReLU. **MaxPooling:** The output shape should be 5x5x16.\n",
    "\n",
    "**Flatten:** Flatten the output shape of the final pooling layer such that it's 1D instead of 3D.  You may need to use tf.reshape.\n",
    "\n",
    "**Layer 3 - Fully Connected:** This should have 120 outputs. **Activation:** ReLU.\n",
    "\n",
    "**Layer 4 - Fully Connected:** This should have 84 outputs. **Activation:** ReLU.\n",
    "\n",
    "**Layer 5 - Fully Connected:** This should have 10 outputs. **Activation:** softmax.\n"
   ]
  },
  {
   "cell_type": "markdown",
   "metadata": {},
   "source": [
    "<b> Question 2.1.1 </b>  Implement the Neural Network architecture described above.\n",
    "For that, your will use classes and functions from  https://www.tensorflow.org/api_docs/python/tf/nn. \n",
    "\n",
    "We give you some helper functions for weigths and bias initilization. Also you can refer to section 1. \n"
   ]
  },
  {
   "cell_type": "code",
   "execution_count": 3,
   "metadata": {},
   "outputs": [],
   "source": [
    "# Helper functions  for weigths and bias initilization \n",
    "def weight_variable(shape):\n",
    "    initial = tf.truncated_normal(shape, stddev=0.1)\n",
    "    return tf.Variable(initial)\n",
    "\n",
    "def bias_variable(shape):\n",
    "    initial = tf.constant(0.1, shape=shape)\n",
    "    return tf.Variable(initial)\n",
    "\n",
    "def conv2d(x, W, stride, padding_):\n",
    "    return tf.nn.conv2d(x, W, strides=[1, stride, stride, 1], padding=padding_)"
   ]
  },
  {
   "cell_type": "code",
   "execution_count": 4,
   "metadata": {},
   "outputs": [],
   "source": [
    "def LeNet5_Model(data, transfer=\"ReLU\", keep_prob=1.):    \n",
    "    \n",
    "    transferFuncs = {\"sigmoid\" : tf.sigmoid, \"ReLU\": tf.nn.relu}\n",
    "        \n",
    "    #first convolutional layer\n",
    "    W_conv1 = weight_variable([5, 5, 1, 6]) ## [filter_width, filter_height, depth_image_in, depth_image_out]\n",
    "    b_conv1 = bias_variable([6])\n",
    "    h_conv1 = transferFuncs[transfer](conv2d(data, W_conv1, 1, 'SAME') + b_conv1)\n",
    "    pool1 = tf.nn.pool(h_conv1, [2,2], \"MAX\", 'VALID', strides=[2,2])\n",
    "    \n",
    "    #second convolutional layer\n",
    "    W_conv2 = weight_variable([5, 5, 6, 16])\n",
    "    b_conv2 = bias_variable([16])\n",
    "    h_conv2 = transferFuncs[transfer](conv2d(pool1, W_conv2, 1, 'VALID') + b_conv2)\n",
    "    pool2 = tf.nn.pool(h_conv2, [2,2], \"MAX\", 'VALID', strides=[2,2])\n",
    "    \n",
    "    #first fully connected layer\n",
    "    s = pool2.get_shape().as_list()\n",
    "    flattened_length = s[1] * s[2] * s[3]\n",
    "    pool2_flat = tf.reshape(pool2, [-1, flattened_length])\n",
    "    W_fc1 = weight_variable([1*5*5*16, 120])\n",
    "    b_fc1 = bias_variable([120])\n",
    "    h_fc1 = transferFuncs[transfer](tf.matmul(pool2_flat, W_fc1) + b_fc1)\n",
    "    h_fc1_drop = tf.nn.dropout(h_fc1, keep_prob)\n",
    "\n",
    "    #second fully connected layer\n",
    "    W_fc2 = weight_variable([120, 84])\n",
    "    b_fc2 = bias_variable([84])\n",
    "    h_fc2 = transferFuncs[transfer](tf.matmul(h_fc1_drop, W_fc2) + b_fc2)\n",
    "    h_fc2_drop = tf.nn.dropout(h_fc2, keep_prob)\n",
    "    \n",
    "    #third fully connected layer\n",
    "    W_fc3 = weight_variable([84, 10])\n",
    "    b_fc3 = bias_variable([10])\n",
    "    h_fc3 = tf.nn.softmax(tf.matmul(h_fc2_drop, W_fc3) + b_fc3)\n",
    "    \n",
    "    return h_fc3"
   ]
  },
  {
   "cell_type": "markdown",
   "metadata": {},
   "source": [
    "<b> Question 2.1.2. </b>  Calculate the number of parameters of this model "
   ]
  },
  {
   "cell_type": "code",
   "execution_count": 5,
   "metadata": {},
   "outputs": [
    {
     "name": "stdout",
     "output_type": "stream",
     "text": [
      "59706\n"
     ]
    }
   ],
   "source": [
    "# first conv\n",
    "pconv1 = 5*5*1*6 # filter_height * filter_width * channels_in * num_feature_maps\n",
    "# second conv\n",
    "pconv2 = 5*5*1*16 # filter_height * filter_width * channels_in * num_feature_maps\n",
    "# first fcl\n",
    "pfcl1 = 5*5*16*120 # fcl_input_size * fcl_output_size\n",
    "# second fcl\n",
    "pfcl2 = 84*120 # fcl_input_size * fcl_output_size\n",
    "# third fcl\n",
    "pfcl3 = 84*10 # fcl_input_size * fcl_output_size\n",
    "pbias = 6+16+120+84+10 # all the biases\n",
    "total = pbias + pfcl1 + pfcl2 + pfcl3 + pconv2 + pconv1\n",
    "print(total)"
   ]
  },
  {
   "cell_type": "markdown",
   "metadata": {},
   "source": [
    "<b> Question 2.1.3. </b>  Define your model, its accuracy and the loss function according to the following parameters (you can look at Section 1 to see what is expected):\n",
    "\n",
    "     Learning rate: 0.001\n",
    "     Loss Fucntion: Cross-entropy\n",
    "     Optimizer: tf.train.GradientDescentOptimizer\n",
    "     Number of epochs: 40\n",
    "     Batch size: 128"
   ]
  },
  {
   "cell_type": "code",
   "execution_count": 6,
   "metadata": {},
   "outputs": [],
   "source": [
    "tf.reset_default_graph() # reset the default graph before defining a new model\n",
    "\n",
    "# Parameters\n",
    "learning_rate = 0.001\n",
    "training_epochs = 40\n",
    "batch_size = 128\n",
    "\n",
    "display_step = 10\n",
    "logs_path = 'log_files/'"
   ]
  },
  {
   "cell_type": "markdown",
   "metadata": {},
   "source": [
    "<b> Question 2.1.4. </b>  Implement the evaluation function for accuracy computation "
   ]
  },
  {
   "cell_type": "code",
   "execution_count": 7,
   "metadata": {},
   "outputs": [],
   "source": [
    "def evaluate(model, y):\n",
    "    correct = tf.equal(tf.argmax(model, 1), tf.argmax(y, 1))\n",
    "    return tf.reduce_mean(tf.cast(correct, tf.float32))"
   ]
  },
  {
   "cell_type": "markdown",
   "metadata": {},
   "source": [
    "<b> Question 2.1.5. </b>  Implement training pipeline and run the training data through it to train the model.\n",
    "\n",
    "- Before each epoch, shuffle the training set. \n",
    "- Print the loss per mini batch and the training/validation accuracy per epoch. (Display results every 100 epochs)\n",
    "- Save the model after training\n",
    "- Print after training the final testing accuracy \n",
    "\n"
   ]
  },
  {
   "cell_type": "code",
   "execution_count": 27,
   "metadata": {},
   "outputs": [],
   "source": [
    "import time \n",
    "def train(learning_rate, training_epochs, batch_size, display_step = 1, \\\n",
    "          logs_path='log_files/', optFunction=\"SGD\", verbose=True, transfer=\"ReLU\", keep_probability= 1.0):\n",
    "    \n",
    "    optFunctions = {\"SGD\":tf.train.GradientDescentOptimizer, \"Adam\":tf.train.AdamOptimizer}\n",
    "    \n",
    "    # Erase previous graph\n",
    "    tf.reset_default_graph()\n",
    "\n",
    "    x = tf.placeholder(tf.float32, [None, 28, 28, 1], name='InputData')\n",
    "    y = tf.placeholder(tf.float32, [None, 10], name='LabelData')\n",
    "    keep_prob = tf.placeholder(tf.float32)\n",
    "\n",
    "    # Construct model\n",
    "    with tf.name_scope('Model'):\n",
    "        pred = LeNet5_Model(x, transfer=transfer)\n",
    "\n",
    "    # Define loss and optimizer\n",
    "    with tf.name_scope('Loss'):\n",
    "        cost = tf.reduce_mean(-tf.reduce_sum(y*tf.log(pred), reduction_indices=1))\n",
    "        #cost = tf.reduce_mean(tf.nn.softmax_cross_entropy_with_logits_v2(logits=pred, labels=y))\n",
    "\n",
    "    with tf.name_scope(optFunction):\n",
    "        if transfer is \"sigmoid\":\n",
    "            optimizer = optFunctions[optFunction](learning_rate).minimize(cost)\n",
    "        else:\n",
    "            opt = optFunctions[optFunction](learning_rate)\n",
    "            gvs = opt.compute_gradients(cost)\n",
    "            capped_gvs = [(tf.clip_by_value(grad, -1., 1.), var) for grad, var in gvs]\n",
    "            optimizer = opt.apply_gradients(capped_gvs)\n",
    "\n",
    "    # Evaluate model\n",
    "    with tf.name_scope('Accuracy'):\n",
    "        accuracy = evaluate(pred, y)\n",
    "\n",
    "    # Initializing the variables\n",
    "    init = tf.global_variables_initializer()\n",
    "\n",
    "    # Create a summary to monitor cost tensor\n",
    "    tf.summary.scalar(\"Loss\", cost)\n",
    "    # Create a summary to monitor accuracy tensor\n",
    "    tf.summary.scalar(\"Accuracy\", accuracy)\n",
    "    # Merge all summaries into a single op\n",
    "    merged_summary_op = tf.summary.merge_all()\n",
    "\n",
    "    x_val, y_val = mnist.validation.images.reshape(-1, 28, 28, 1), mnist.validation.labels\n",
    "    x_test, y_test = mnist.test.images.reshape(-1, 28, 28, 1), mnist.test.labels\n",
    "\n",
    "    with tf.Session() as sess:\n",
    "        #acc_history = []\n",
    "        test_history = []\n",
    "        val_history = []\n",
    "        #train_history = []\n",
    "\n",
    "        sess.run(init)\n",
    "        if verbose is True:\n",
    "            print(\"Start Training!\")\n",
    "        # op to write logs to Tensorboard\n",
    "        summary_writer = tf.summary.FileWriter(logs_path, graph=tf.get_default_graph())\n",
    "        saver = tf.train.Saver()\n",
    "        # Training cycle\n",
    "        start_time = time.time()\n",
    "        for epoch in range(training_epochs):\n",
    "            avg_cost = 0.\n",
    "            total_batch = int(mnist.train.num_examples/batch_size)\n",
    "            # Loop over all batches\n",
    "            for i in range(total_batch):\n",
    "                batch_xs, batch_ys = mnist.train.next_batch(batch_size)\n",
    "                batch_xs = batch_xs.reshape(-1, 28, 28, 1)\n",
    "                # Run optimization op (backprop), cost op (to get loss value)\n",
    "                # and summary nodes\n",
    "                _, c, summary = sess.run([optimizer, cost, merged_summary_op],\n",
    "                                         feed_dict={x: batch_xs, y: batch_ys, keep_prob: keep_probability})\n",
    "                # Write logs at every iteration\n",
    "                summary_writer.add_summary(summary, epoch * total_batch + i)\n",
    "                # Compute average loss\n",
    "                avg_cost += c / total_batch\n",
    "            # Display logs per epoch step\n",
    "            #train_acc = accuracy.eval({x: batch_xs, y:batch_ys})\n",
    "            val_acc = accuracy.eval({x: x_val, y:y_val, keep_prob:keep_probability})\n",
    "            test_acc = accuracy.eval({x: x_test, y:y_test, keep_prob:keep_probability})\n",
    "\n",
    "            #train_history.append(train_acc)\n",
    "            val_history.append(val_acc)\n",
    "            test_history.append(test_acc)\n",
    "            \n",
    "            saver.save(sess, 'Models/model_' + str(learning_rate) + '_' + str(batch_size) + '_' + optFunction)\n",
    "            if verbose is True and (epoch+1) % display_step == 0:\n",
    "                print(\"Epoch: \", '%02d' % (epoch+1), \\\n",
    "                      \"  =====> Loss=\", \"{:.9f}\".format(avg_cost), \\\n",
    "                      \" Validation accuracy=\", val_acc, \" Test accuracy=\", test_acc)\n",
    "            if test_acc >= 0.99:\n",
    "                if verbose is True:\n",
    "                    print(\"Test Accuracy over 99%% reached after %d epochs\" %(epoch+1))\n",
    "                break\n",
    "        elapsed_time = time.time() - start_time       \n",
    "        if verbose is True:\n",
    "            print(\"Training Finished!\")\n",
    "            # Test model\n",
    "            # Calculate accuracy\n",
    "            print(\"Test accuracy:\", accuracy.eval({x: x_test, y:y_test, keep_prob: keep_probability}))\n",
    "            print(\"Elapsed time: \", elapsed_time, \"sec\")\n",
    "        \n",
    "    return val_history, test_history, elapsed_time"
   ]
  },
  {
   "cell_type": "code",
   "execution_count": 23,
   "metadata": {},
   "outputs": [
    {
     "name": "stdout",
     "output_type": "stream",
     "text": [
      "Start Training!\n",
      "Epoch:  01   =====> Loss= 2.277477276  Validation accuracy= 0.1878  Test accuracy= 0.1866\n",
      "Epoch:  02   =====> Loss= 2.228345729  Validation accuracy= 0.3138  Test accuracy= 0.3174\n",
      "Epoch:  03   =====> Loss= 2.145544900  Validation accuracy= 0.4588  Test accuracy= 0.4535\n",
      "Epoch:  04   =====> Loss= 1.961876166  Validation accuracy= 0.644  Test accuracy= 0.6419\n",
      "Epoch:  05   =====> Loss= 1.552841382  Validation accuracy= 0.7506  Test accuracy= 0.7512\n",
      "Epoch:  06   =====> Loss= 1.005656833  Validation accuracy= 0.8094  Test accuracy= 0.8136\n",
      "Epoch:  07   =====> Loss= 0.682512069  Validation accuracy= 0.8446  Test accuracy= 0.852\n",
      "Epoch:  08   =====> Loss= 0.545619721  Validation accuracy= 0.8674  Test accuracy= 0.8725\n",
      "Epoch:  09   =====> Loss= 0.471422312  Validation accuracy= 0.8794  Test accuracy= 0.887\n",
      "Epoch:  10   =====> Loss= 0.423888842  Validation accuracy= 0.8908  Test accuracy= 0.8967\n",
      "Epoch:  11   =====> Loss= 0.382332977  Validation accuracy= 0.9  Test accuracy= 0.904\n",
      "Epoch:  12   =====> Loss= 0.355163979  Validation accuracy= 0.9072  Test accuracy= 0.9093\n",
      "Epoch:  13   =====> Loss= 0.333852474  Validation accuracy= 0.9106  Test accuracy= 0.9135\n",
      "Epoch:  14   =====> Loss= 0.312639637  Validation accuracy= 0.9166  Test accuracy= 0.9186\n",
      "Epoch:  15   =====> Loss= 0.297983602  Validation accuracy= 0.92  Test accuracy= 0.9218\n",
      "Epoch:  16   =====> Loss= 0.285595172  Validation accuracy= 0.9232  Test accuracy= 0.9266\n",
      "Epoch:  17   =====> Loss= 0.273900314  Validation accuracy= 0.927  Test accuracy= 0.9289\n",
      "Epoch:  18   =====> Loss= 0.263176172  Validation accuracy= 0.929  Test accuracy= 0.9298\n",
      "Epoch:  19   =====> Loss= 0.252223228  Validation accuracy= 0.9324  Test accuracy= 0.9317\n",
      "Epoch:  20   =====> Loss= 0.243234173  Validation accuracy= 0.9338  Test accuracy= 0.9356\n",
      "Epoch:  21   =====> Loss= 0.236628388  Validation accuracy= 0.9354  Test accuracy= 0.9378\n",
      "Epoch:  22   =====> Loss= 0.229466450  Validation accuracy= 0.9406  Test accuracy= 0.9399\n",
      "Epoch:  23   =====> Loss= 0.224791221  Validation accuracy= 0.9416  Test accuracy= 0.9403\n",
      "Epoch:  24   =====> Loss= 0.215337716  Validation accuracy= 0.9434  Test accuracy= 0.9423\n",
      "Epoch:  25   =====> Loss= 0.212199525  Validation accuracy= 0.9442  Test accuracy= 0.9444\n",
      "Epoch:  26   =====> Loss= 0.203646951  Validation accuracy= 0.946  Test accuracy= 0.9464\n",
      "Epoch:  27   =====> Loss= 0.198668339  Validation accuracy= 0.9474  Test accuracy= 0.9474\n",
      "Epoch:  28   =====> Loss= 0.194356065  Validation accuracy= 0.9488  Test accuracy= 0.9492\n",
      "Epoch:  29   =====> Loss= 0.191422652  Validation accuracy= 0.9492  Test accuracy= 0.95\n",
      "Epoch:  30   =====> Loss= 0.183872499  Validation accuracy= 0.9506  Test accuracy= 0.9499\n",
      "Epoch:  31   =====> Loss= 0.182281195  Validation accuracy= 0.9528  Test accuracy= 0.9521\n",
      "Epoch:  32   =====> Loss= 0.176639936  Validation accuracy= 0.9542  Test accuracy= 0.9531\n",
      "Epoch:  33   =====> Loss= 0.174133715  Validation accuracy= 0.9548  Test accuracy= 0.9546\n",
      "Epoch:  34   =====> Loss= 0.169932496  Validation accuracy= 0.956  Test accuracy= 0.9545\n",
      "Epoch:  35   =====> Loss= 0.167984644  Validation accuracy= 0.957  Test accuracy= 0.9565\n",
      "Epoch:  36   =====> Loss= 0.162653073  Validation accuracy= 0.9576  Test accuracy= 0.9561\n",
      "Epoch:  37   =====> Loss= 0.160722924  Validation accuracy= 0.9586  Test accuracy= 0.9562\n",
      "Epoch:  38   =====> Loss= 0.157158385  Validation accuracy= 0.9596  Test accuracy= 0.9581\n",
      "Epoch:  39   =====> Loss= 0.155133400  Validation accuracy= 0.96  Test accuracy= 0.9579\n",
      "Epoch:  40   =====> Loss= 0.151658560  Validation accuracy= 0.9604  Test accuracy= 0.9606\n",
      "Training Finished!\n",
      "Test accuracy: 0.9606\n"
     ]
    }
   ],
   "source": [
    "val_hist1, test_hist1, elapsed_time_1 = train(learning_rate, training_epochs, batch_size)"
   ]
  },
  {
   "cell_type": "markdown",
   "metadata": {},
   "source": [
    "<b> Question 2.1.6 </b> : Use TensorBoard to visualise and save loss and accuracy curves. \n",
    "You will save figures in the folder **\"lab_2/MNIST_figures\"** and display them in your notebook."
   ]
  },
  {
   "cell_type": "markdown",
   "metadata": {},
   "source": [
    "Please put your loss and accuracy curves here."
   ]
  },
  {
   "cell_type": "markdown",
   "metadata": {},
   "source": [
    "<b> Part 2 </b> : LeNET 5 Optimization"
   ]
  },
  {
   "cell_type": "markdown",
   "metadata": {},
   "source": [
    "\n",
    "<b> Question 2.2.1 </b>\n",
    "\n",
    "- Retrain your network with AdamOptimizer and then fill the table above:\n",
    "\n",
    "\n",
    "| Optimizer            |  Gradient Descent  |    AdamOptimizer    |\n",
    "|----------------------|--------------------|---------------------|\n",
    "| Testing Accuracy     |         ???        |        ???          |       \n",
    "| Training Time        |         ???        |        ???          |  \n",
    "\n",
    "- Which optimizer gives the best accuracy on test data?\n",
    "\n",
    "**Your answer:** ...\n"
   ]
  },
  {
   "cell_type": "code",
   "execution_count": 28,
   "metadata": {},
   "outputs": [
    {
     "name": "stdout",
     "output_type": "stream",
     "text": [
      "Start Training!\n",
      "Epoch:  01   =====> Loss= 0.393101458  Validation accuracy= 0.9724  Test accuracy= 0.9738\n",
      "Epoch:  02   =====> Loss= 0.084432033  Validation accuracy= 0.9776  Test accuracy= 0.9778\n",
      "Epoch:  03   =====> Loss= 0.061928234  Validation accuracy= 0.984  Test accuracy= 0.9833\n",
      "Epoch:  04   =====> Loss= 0.047621400  Validation accuracy= 0.9866  Test accuracy= 0.9859\n",
      "Epoch:  05   =====> Loss= 0.041457841  Validation accuracy= 0.9886  Test accuracy= 0.9868\n",
      "Epoch:  06   =====> Loss= 0.033015398  Validation accuracy= 0.9856  Test accuracy= 0.9865\n",
      "Epoch:  07   =====> Loss= 0.029921563  Validation accuracy= 0.9886  Test accuracy= 0.9887\n",
      "Epoch:  08   =====> Loss= 0.026494493  Validation accuracy= 0.9862  Test accuracy= 0.989\n",
      "Epoch:  09   =====> Loss= 0.021423107  Validation accuracy= 0.9918  Test accuracy= 0.99\n",
      "Test Accuracy over 99% reached after 9 epochs\n",
      "Training Finished!\n",
      "Test accuracy: 0.99\n",
      "Elapsed time:  157.9079737663269 sec\n"
     ]
    }
   ],
   "source": [
    "tf.reset_default_graph()\n",
    "val_hist_2, test_hist_2, elapsed_time_2 = train(learning_rate, training_epochs, batch_size, optFunction=\"Adam\")"
   ]
  },
  {
   "cell_type": "markdown",
   "metadata": {},
   "source": [
    "<b> Question 2.2.2</b> Try to add dropout (keep_prob = 0.75) before the first fully connected layer. You will use tf.nn.dropout for that purpose. What accuracy do you achieve on testing data?\n",
    "\n",
    "**Accuracy achieved on testing data:** ..."
   ]
  },
  {
   "cell_type": "code",
   "execution_count": 29,
   "metadata": {},
   "outputs": [
    {
     "name": "stdout",
     "output_type": "stream",
     "text": [
      "Start Training!\n",
      "Epoch:  01   =====> Loss= 0.356263814  Validation accuracy= 0.9692  Test accuracy= 0.9674\n",
      "Epoch:  02   =====> Loss= 0.090154480  Validation accuracy= 0.98  Test accuracy= 0.9811\n",
      "Epoch:  03   =====> Loss= 0.061317494  Validation accuracy= 0.9842  Test accuracy= 0.9838\n",
      "Epoch:  04   =====> Loss= 0.046231128  Validation accuracy= 0.987  Test accuracy= 0.9871\n",
      "Epoch:  05   =====> Loss= 0.036664538  Validation accuracy= 0.9882  Test accuracy= 0.9885\n",
      "Epoch:  06   =====> Loss= 0.033082531  Validation accuracy= 0.9852  Test accuracy= 0.9861\n",
      "Epoch:  07   =====> Loss= 0.027664797  Validation accuracy= 0.986  Test accuracy= 0.9882\n",
      "Epoch:  08   =====> Loss= 0.023629387  Validation accuracy= 0.9892  Test accuracy= 0.9904\n",
      "Test Accuracy over 99% reached after 8 epochs\n",
      "Training Finished!\n",
      "Test accuracy: 0.9904\n",
      "Elapsed time:  140.13831901550293 sec\n"
     ]
    }
   ],
   "source": [
    "tf.reset_default_graph()\n",
    "val_hist_3, test_hist_3, elapsed_time_3 = train(learning_rate, training_epochs, batch_size, optFunction=\"Adam\", keep_probability= 0.75)"
   ]
  },
  {
   "cell_type": "code",
   "execution_count": null,
   "metadata": {},
   "outputs": [],
   "source": []
  }
 ],
 "metadata": {
  "anaconda-cloud": {},
  "kernelspec": {
   "display_name": "Python 3",
   "language": "python",
   "name": "python3"
  },
  "language_info": {
   "codemirror_mode": {
    "name": "ipython",
    "version": 3
   },
   "file_extension": ".py",
   "mimetype": "text/x-python",
   "name": "python",
   "nbconvert_exporter": "python",
   "pygments_lexer": "ipython3",
   "version": "3.5.2"
  },
  "widgets": {
   "state": {},
   "version": "1.1.2"
  }
 },
 "nbformat": 4,
 "nbformat_minor": 1
}
